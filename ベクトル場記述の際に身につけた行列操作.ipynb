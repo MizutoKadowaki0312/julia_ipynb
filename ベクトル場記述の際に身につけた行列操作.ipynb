{
 "cells": [
  {
   "cell_type": "code",
   "execution_count": 13,
   "metadata": {},
   "outputs": [
    {
     "data": {
      "text/plain": [
       "1:4"
      ]
     },
     "metadata": {},
     "output_type": "display_data"
    },
    {
     "data": {
      "text/plain": [
       "10:10:30"
      ]
     },
     "metadata": {},
     "output_type": "display_data"
    },
    {
     "name": "stdout",
     "output_type": "stream",
     "text": [
      "typeof(x) = UnitRange{Int64}\n",
      "typeof(y) = StepRange{Int64, Int64}\n",
      "size(x) = (4,)\n",
      "size(y) = (3,)\n"
     ]
    }
   ],
   "source": [
    "x = 1:4\n",
    "y = 10(1:3)\n",
    "\n",
    "display(x)\n",
    "display(y)\n",
    "println(\"typeof(x) = \" , typeof(x))\n",
    "println(\"typeof(y) = \" , typeof(y))\n",
    "println(\"size(x) = \" , size(x))\n",
    "println(\"size(y) = \" , size(y))"
   ]
  },
  {
   "cell_type": "code",
   "execution_count": 14,
   "metadata": {
    "scrolled": true
   },
   "outputs": [
    {
     "data": {
      "text/plain": [
       "1×4 adjoint(::UnitRange{Int64}) with eltype Int64:\n",
       " 1  2  3  4"
      ]
     },
     "metadata": {},
     "output_type": "display_data"
    },
    {
     "name": "stdout",
     "output_type": "stream",
     "text": [
      "typeof(x') = LinearAlgebra.Adjoint{Int64, UnitRange{Int64}}\n",
      "size(x') = (1, 4)\n"
     ]
    }
   ],
   "source": [
    "\"\"\"\n",
    "adjoint() hは複素転置をとる操作．\n",
    "列ベクトル(語弊あり)xの転置を取ることで行ベクトルへ転置している．\n",
    "\"\"\"\n",
    "\n",
    "display(adjoint(x)) #x'も同じ意味\n",
    "println(\"typeof(x') = \" , typeof(x'))\n",
    "println(\"size(x') = \" , size(x'))"
   ]
  },
  {
   "cell_type": "code",
   "execution_count": 25,
   "metadata": {},
   "outputs": [
    {
     "data": {
      "text/plain": [
       "1 + 0im"
      ]
     },
     "metadata": {},
     "output_type": "display_data"
    },
    {
     "data": {
      "text/plain": [
       "1 + 2im"
      ]
     },
     "metadata": {},
     "output_type": "display_data"
    },
    {
     "data": {
      "text/plain": [
       "1×4 Matrix{Complex{Int64}}:\n",
       " 1+2im  2+2im  3+2im  4+2im"
      ]
     },
     "metadata": {},
     "output_type": "display_data"
    },
    {
     "data": {
      "text/plain": [
       "2×4 Matrix{Complex{Int64}}:\n",
       " 1+1im  2+1im  3+1im  4+1im\n",
       " 1+2im  2+2im  3+2im  4+2im"
      ]
     },
     "metadata": {},
     "output_type": "display_data"
    },
    {
     "data": {
      "text/plain": [
       "(1, 0)"
      ]
     },
     "metadata": {},
     "output_type": "display_data"
    },
    {
     "data": {
      "text/plain": [
       "(1, 2)"
      ]
     },
     "metadata": {},
     "output_type": "display_data"
    },
    {
     "data": {
      "text/plain": [
       "([1 2 3 4], [2 2 2 2])"
      ]
     },
     "metadata": {},
     "output_type": "display_data"
    },
    {
     "data": {
      "text/plain": [
       "([1 2 3 4; 1 2 3 4], [1 1 1 1; 2 2 2 2])"
      ]
     },
     "metadata": {},
     "output_type": "display_data"
    }
   ],
   "source": [
    "\"\"\"\n",
    "`complex()` で複素数化する．\n",
    "\"\"\"\n",
    "\n",
    "display(complex(1))\n",
    "display(complex(1,2))\n",
    "display(complex.(x',2)) #行列x' の各要素を複素数化することを考えると，dot 表記が必要である．\n",
    "display(complex.(x',[1,2]))\n",
    "\n",
    "\"\"\"\n",
    "`reim()` は複素数の実部と虚部を取り出す．\n",
    "\"\"\"\n",
    "\n",
    "display(reim(complex(1)))\n",
    "display(reim(complex(1,2)))\n",
    "display(reim(complex.(x',2))) #行列x' の各要素を複素数化することを考えると，dot 表記が必要である．\n",
    "display(reim(complex.(x',[1,2])))"
   ]
  },
  {
   "cell_type": "code",
   "execution_count": 28,
   "metadata": {},
   "outputs": [
    {
     "data": {
      "text/plain": [
       "3×4 Matrix{Complex{Int64}}:\n",
       " 1+10im  2+10im  3+10im  4+10im\n",
       " 1+20im  2+20im  3+20im  4+20im\n",
       " 1+30im  2+30im  3+30im  4+30im"
      ]
     },
     "metadata": {},
     "output_type": "display_data"
    },
    {
     "data": {
      "text/plain": [
       "([1 2 3 4; 1 2 3 4; 1 2 3 4], [10 10 10 10; 20 20 20 20; 30 30 30 30])"
      ]
     },
     "metadata": {},
     "output_type": "display_data"
    }
   ],
   "source": [
    "display(complex.(x',y))\n",
    "display(reim(complex.(x',y)))"
   ]
  },
  {
   "cell_type": "code",
   "execution_count": 35,
   "metadata": {},
   "outputs": [
    {
     "data": {
      "text/plain": [
       "3×4 Matrix{Int64}:\n",
       " 1  2  3  4\n",
       " 1  2  3  4\n",
       " 1  2  3  4"
      ]
     },
     "metadata": {},
     "output_type": "display_data"
    },
    {
     "data": {
      "text/plain": [
       "3×4 Matrix{Int64}:\n",
       " 10  10  10  10\n",
       " 20  20  20  20\n",
       " 30  30  30  30"
      ]
     },
     "metadata": {},
     "output_type": "display_data"
    }
   ],
   "source": [
    "\"\"\"\n",
    "X,Y = reim(complex.(x',y)) でも同じ意味．\n",
    "\"\"\"\n",
    "\n",
    "X = reim(complex.(x',y))[1]\n",
    "Y = reim(complex.(x',y))[2]\n",
    "\n",
    "display(X)\n",
    "display(Y)"
   ]
  }
 ],
 "metadata": {
  "_draft": {
   "nbviewer_url": "https://gist.github.com/9db17bf100bf16bb5bf6802f02ecef5d"
  },
  "gist": {
   "data": {
    "description": "行列操作.ipynb",
    "public": true
   },
   "id": "9db17bf100bf16bb5bf6802f02ecef5d"
  },
  "kernelspec": {
   "display_name": "Julia 1.6.1",
   "language": "julia",
   "name": "julia-1.6"
  },
  "language_info": {
   "file_extension": ".jl",
   "mimetype": "application/julia",
   "name": "julia",
   "version": "1.6.1"
  },
  "latex_envs": {
   "LaTeX_envs_menu_present": true,
   "autoclose": true,
   "autocomplete": true,
   "bibliofile": "biblio.bib",
   "cite_by": "apalike",
   "current_citInitial": 1,
   "eqLabelWithNumbers": true,
   "eqNumInitial": 1,
   "hotkeys": {
    "equation": "Ctrl-E",
    "itemize": "Ctrl-I"
   },
   "labels_anchors": false,
   "latex_user_defs": false,
   "report_style_numbering": false,
   "user_envs_cfg": false
  },
  "toc": {
   "base_numbering": 1,
   "nav_menu": {},
   "number_sections": true,
   "sideBar": true,
   "skip_h1_title": false,
   "title_cell": "Table of Contents",
   "title_sidebar": "Contents",
   "toc_cell": false,
   "toc_position": {},
   "toc_section_display": true,
   "toc_window_display": false
  },
  "varInspector": {
   "cols": {
    "lenName": 16,
    "lenType": 16,
    "lenVar": 40
   },
   "kernels_config": {
    "python": {
     "delete_cmd_postfix": "",
     "delete_cmd_prefix": "del ",
     "library": "var_list.py",
     "varRefreshCmd": "print(var_dic_list())"
    },
    "r": {
     "delete_cmd_postfix": ") ",
     "delete_cmd_prefix": "rm(",
     "library": "var_list.r",
     "varRefreshCmd": "cat(var_dic_list()) "
    }
   },
   "types_to_exclude": [
    "module",
    "function",
    "builtin_function_or_method",
    "instance",
    "_Feature"
   ],
   "window_display": false
  }
 },
 "nbformat": 4,
 "nbformat_minor": 2
}
