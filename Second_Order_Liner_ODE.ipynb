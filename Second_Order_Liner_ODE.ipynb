{
 "cells": [
  {
   "cell_type": "markdown",
   "metadata": {},
   "source": [
    "# 調和振動子 を Julia言語で解く"
   ]
  },
  {
   "cell_type": "markdown",
   "metadata": {},
   "source": [
    "## 考え方\n",
    "\n",
    "質量 $m$ のおもりをつけたバネ定数 $k$ の調和振動を考える．この運動方程式は\n",
    "\n",
    "$$\n",
    "m\\dfrac{d^2 x}{dt^2} = -kx \\\\\n",
    "\\dfrac{d^2 x}{dt^2} = -\\omega^2 x \n",
    "$$\n",
    "\n",
    "となる．ここで角振動数$\\omega$を $\\omega = \\sqrt{\\dfrac{k}{m}}$ を置いている．この解は厳密に解くことができて，初期条件\n",
    "\n",
    "$$\n",
    "x(0) = x_0 \\\\\n",
    "v(0) = v_0\n",
    "$$\n",
    "\n",
    "をおくことで，\n",
    "\n",
    "$$\n",
    "x(t) = x_0\\cos\\omega t + \\dfrac{v_0}{\\omega}\\sin\\omega t\n",
    "$$\n",
    "\n",
    "を得ることができる．これを Julia を用いて実装することを試みる．"
   ]
  },
  {
   "cell_type": "markdown",
   "metadata": {},
   "source": [
    "## Julia での実装\n",
    "\n",
    "[DifferentialEquations.jl ](https://docs.sciml.ai/latest/types/dynamical_types/#Mathematical-Specification-of-a-2nd-Order-ODE-Problem-1) によると，2階微分方程式の解を得るためには，以下の変数を指定する必要がある．\n",
    "\n",
    "```\n",
    "u : 2階微分した式\n",
    "du0 : 1階積分した際の初期条件(運動方程式でいうところの v(0) )\n",
    "u0 : 2階積分した際の初期条件(運動方程式でいうところの x(0) )\n",
    "tspan : 解きたい問題の時間範囲\n",
    "```\n",
    "\n",
    "その他の変数(ここでは $\\omega$) も解く際に入れてあげる．"
   ]
  },
  {
   "cell_type": "markdown",
   "metadata": {},
   "source": [
    "# 実装"
   ]
  },
  {
   "cell_type": "markdown",
   "metadata": {},
   "source": [
    "## package の呼び出し"
   ]
  },
  {
   "cell_type": "code",
   "execution_count": 1,
   "metadata": {},
   "outputs": [
    {
     "name": "stderr",
     "output_type": "stream",
     "text": [
      "┌ Info: Precompiling Plots [91a5bcdd-55d7-5caf-9e0b-520d859cae80]\n",
      "└ @ Base loading.jl:1273\n",
      "ERROR: LoadError: EOFError: read end of file\n",
      "Stacktrace:\n",
      " [1] read(::IOStream, ::Type{Int64}) at ./iostream.jl:361\n",
      " [2] parse_cache_header(::IOStream) at ./loading.jl:1334\n",
      " [3] stale_cachefile(::String, ::String) at ./loading.jl:1413\n",
      " [4] _require_search_from_serialized(::Base.PkgId, ::String) at ./loading.jl:752\n",
      " [5] _require(::Base.PkgId) at ./loading.jl:1001\n",
      " [6] require(::Base.PkgId) at ./loading.jl:922\n",
      " [7] require(::Module, ::Symbol) at ./loading.jl:917\n",
      " [8] include at ./boot.jl:328 [inlined]\n",
      " [9] include_relative(::Module, ::String) at ./loading.jl:1105\n",
      " [10] include(::Module, ::String) at ./Base.jl:31\n",
      " [11] top-level scope at none:2\n",
      " [12] eval at ./boot.jl:330 [inlined]\n",
      " [13] eval(::Expr) at ./client.jl:425\n",
      " [14] top-level scope at ./none:3\n",
      "in expression starting at /Users/kadowakimizuto/.julia/packages/Plots/LWw1t/src/Plots.jl:11\n"
     ]
    },
    {
     "ename": "ErrorException",
     "evalue": "Failed to precompile Plots [91a5bcdd-55d7-5caf-9e0b-520d859cae80] to /Users/kadowakimizuto/.julia/compiled/v1.3/Plots/ld3vC_7vXYS.ji.",
     "output_type": "error",
     "traceback": [
      "Failed to precompile Plots [91a5bcdd-55d7-5caf-9e0b-520d859cae80] to /Users/kadowakimizuto/.julia/compiled/v1.3/Plots/ld3vC_7vXYS.ji.",
      "",
      "Stacktrace:",
      " [1] error(::String) at ./error.jl:33",
      " [2] compilecache(::Base.PkgId, ::String) at ./loading.jl:1283",
      " [3] _require(::Base.PkgId) at ./loading.jl:1024",
      " [4] require(::Base.PkgId) at ./loading.jl:922",
      " [5] require(::Module, ::Symbol) at ./loading.jl:917",
      " [6] top-level scope at In[1]:2"
     ]
    }
   ],
   "source": [
    "using DifferentialEquations\n",
    "using Plots"
   ]
  },
  {
   "cell_type": "markdown",
   "metadata": {},
   "source": [
    "## 変数の定義"
   ]
  },
  {
   "cell_type": "markdown",
   "metadata": {},
   "source": [
    "### 角振動数"
   ]
  },
  {
   "cell_type": "code",
   "execution_count": 2,
   "metadata": {},
   "outputs": [
    {
     "data": {
      "text/plain": [
       "1"
      ]
     },
     "execution_count": 2,
     "metadata": {},
     "output_type": "execute_result"
    }
   ],
   "source": [
    "ω = 1"
   ]
  },
  {
   "cell_type": "markdown",
   "metadata": {},
   "source": [
    "### 初期条件"
   ]
  },
  {
   "cell_type": "code",
   "execution_count": 3,
   "metadata": {},
   "outputs": [
    {
     "data": {
      "text/plain": [
       "1-element Array{Float64,1}:\n",
       " 1.0"
      ]
     },
     "execution_count": 3,
     "metadata": {},
     "output_type": "execute_result"
    }
   ],
   "source": [
    "u0 = [1.0]\n",
    "du0 = [1.0]"
   ]
  },
  {
   "cell_type": "markdown",
   "metadata": {},
   "source": [
    "### 時間"
   ]
  },
  {
   "cell_type": "code",
   "execution_count": 4,
   "metadata": {},
   "outputs": [
    {
     "data": {
      "text/plain": [
       "(0.0, 6.283185307179586)"
      ]
     },
     "execution_count": 4,
     "metadata": {},
     "output_type": "execute_result"
    }
   ],
   "source": [
    "tspan = (0.0 , 2π)"
   ]
  },
  {
   "cell_type": "markdown",
   "metadata": {},
   "source": [
    "### 関数の定義\n",
    "\n",
    "関数を定義する．ここでは，そこそこ大きい配列を扱うので `.=` を用いる．"
   ]
  },
  {
   "cell_type": "code",
   "execution_count": 5,
   "metadata": {},
   "outputs": [
    {
     "data": {
      "text/plain": [
       "harmonicoscillator (generic function with 1 method)"
      ]
     },
     "execution_count": 5,
     "metadata": {},
     "output_type": "execute_result"
    }
   ],
   "source": [
    "function harmonicoscillator(ddu , du , u , ω , t)\n",
    "    ddu .= -ω^2 * u\n",
    "end"
   ]
  },
  {
   "cell_type": "markdown",
   "metadata": {},
   "source": [
    "### 文法に従って，解を出す\n",
    "\n",
    "ここでは文法に従って解を出す．これを実行することで `du` と `u` の解を出すことができる．"
   ]
  },
  {
   "cell_type": "code",
   "execution_count": 6,
   "metadata": {},
   "outputs": [
    {
     "data": {
      "text/plain": [
       "\u001b[36mODEProblem\u001b[0m with uType \u001b[36mArrayPartition{Float64,Tuple{Array{Float64,1},Array{Float64,1}}}\u001b[0m and tType \u001b[36mFloat64\u001b[0m. In-place: \u001b[36mtrue\u001b[0m\n",
       "timespan: (0.0, 6.283185307179586)\n",
       "u0: [1.0][1.0]"
      ]
     },
     "execution_count": 6,
     "metadata": {},
     "output_type": "execute_result"
    }
   ],
   "source": [
    "prob = SecondOrderODEProblem(harmonicoscillator, du0 , u0 , tspan, ω)"
   ]
  },
  {
   "cell_type": "code",
   "execution_count": 7,
   "metadata": {},
   "outputs": [
    {
     "data": {
      "text/plain": [
       "retcode: Success\n",
       "Interpolation: specialized 6th order interpolation\n",
       "t: 14-element Array{Float64,1}:\n",
       " 0.0                 \n",
       " 0.032182713003586334\n",
       " 0.04828800307432802 \n",
       " 0.20934090378174486 \n",
       " 0.7776576408414072  \n",
       " 1.3208188548993511  \n",
       " 2.1299955457569295  \n",
       " 2.599638902516052   \n",
       " 3.166467231920317   \n",
       " 3.7915877858301164  \n",
       " 4.519675064864206   \n",
       " 5.2604966925591485  \n",
       " 5.804836832579552   \n",
       " 6.283185307179586   \n",
       "u: 14-element Array{ArrayPartition{Float64,Tuple{Array{Float64,1},Array{Float64,1}}},1}:\n",
       " [1.0][1.0]                                \n",
       " [0.9698175185568885][1.0317402198032493]  \n",
       " [0.953075988267316][1.0472249333585297]   \n",
       " [0.7728117763337331][1.1865057349207202]  \n",
       " [0.012738001065789779][1.415935187233806] \n",
       " [-0.7209138944609481][1.2187360339544728] \n",
       " [-1.37951901007157][0.31929841542315535]  \n",
       " [-1.374662456093345][-0.33959883377010086]\n",
       " [-0.9773259257372873][-1.0246265264591863]\n",
       " [-0.1929001688669589][-1.402789071844095] \n",
       " [0.7894852389918372][-1.175473809803353]  \n",
       " [1.3758919011623871][-0.33457671358733554]\n",
       " [1.3502948508662511][0.4262911598364724]  \n",
       " [1.0025051948086356][1.0000020242925154]  "
      ]
     },
     "execution_count": 7,
     "metadata": {},
     "output_type": "execute_result"
    }
   ],
   "source": [
    "sol = solve(prob, DPRKN6())"
   ]
  },
  {
   "cell_type": "markdown",
   "metadata": {},
   "source": [
    "# 可視化"
   ]
  },
  {
   "cell_type": "code",
   "execution_count": 8,
   "metadata": {},
   "outputs": [
    {
     "ename": "UndefVarError",
     "evalue": "UndefVarError: plot not defined",
     "output_type": "error",
     "traceback": [
      "UndefVarError: plot not defined",
      "",
      "Stacktrace:",
      " [1] top-level scope at In[8]:1"
     ]
    }
   ],
   "source": [
    "plot(sol, linewidth=2, title =\"Simple Harmonic Oscillator\", xaxis = \"Time\", yaxis = \"Elongation\", label = [\"x\" \"dx\"])"
   ]
  },
  {
   "cell_type": "markdown",
   "metadata": {},
   "source": [
    "# 厳密解との照らし合わせ"
   ]
  },
  {
   "cell_type": "markdown",
   "metadata": {},
   "source": [
    "## $u(x)$ の定義"
   ]
  },
  {
   "cell_type": "code",
   "execution_count": 9,
   "metadata": {},
   "outputs": [
    {
     "data": {
      "text/plain": [
       "f (generic function with 1 method)"
      ]
     },
     "execution_count": 9,
     "metadata": {},
     "output_type": "execute_result"
    }
   ],
   "source": [
    "f(t) = cos(ω*t) + sin(ω*t)"
   ]
  },
  {
   "cell_type": "markdown",
   "metadata": {},
   "source": [
    "## $\\dfrac{d}{dt}u(x)$ の定義"
   ]
  },
  {
   "cell_type": "code",
   "execution_count": 10,
   "metadata": {},
   "outputs": [
    {
     "data": {
      "text/plain": [
       "f′ (generic function with 1 method)"
      ]
     },
     "execution_count": 10,
     "metadata": {},
     "output_type": "execute_result"
    }
   ],
   "source": [
    "f′(t) = -ω*sin(ω*t) + ω*cos(ω*t)"
   ]
  },
  {
   "cell_type": "markdown",
   "metadata": {},
   "source": [
    "## 時間の設定"
   ]
  },
  {
   "cell_type": "code",
   "execution_count": 11,
   "metadata": {},
   "outputs": [
    {
     "data": {
      "text/plain": [
       "0.0:0.01:6.28"
      ]
     },
     "execution_count": 11,
     "metadata": {},
     "output_type": "execute_result"
    }
   ],
   "source": [
    "t = 0:0.01:2π"
   ]
  },
  {
   "cell_type": "markdown",
   "metadata": {},
   "source": [
    "## グラフの重ね合わせ"
   ]
  },
  {
   "cell_type": "code",
   "execution_count": 12,
   "metadata": {},
   "outputs": [
    {
     "ename": "UndefVarError",
     "evalue": "UndefVarError: plot! not defined",
     "output_type": "error",
     "traceback": [
      "UndefVarError: plot! not defined",
      "",
      "Stacktrace:",
      " [1] top-level scope at In[12]:1"
     ]
    }
   ],
   "source": [
    "plot!(t , f , ls = :dash , lw = 3  , label = \"Analytical Solution x\")"
   ]
  },
  {
   "cell_type": "code",
   "execution_count": 13,
   "metadata": {},
   "outputs": [
    {
     "ename": "UndefVarError",
     "evalue": "UndefVarError: plot! not defined",
     "output_type": "error",
     "traceback": [
      "UndefVarError: plot! not defined",
      "",
      "Stacktrace:",
      " [1] top-level scope at In[13]:1"
     ]
    }
   ],
   "source": [
    "plot!(t , f′ , ls = :dash , lw = 3  , label = \"Analytical Solution dx\")"
   ]
  }
 ],
 "metadata": {
  "kernelspec": {
   "display_name": "Julia 1.3.0",
   "language": "julia",
   "name": "julia-1.3"
  },
  "language_info": {
   "file_extension": ".jl",
   "mimetype": "application/julia",
   "name": "julia",
   "version": "1.3.0"
  },
  "latex_envs": {
   "LaTeX_envs_menu_present": true,
   "autoclose": true,
   "autocomplete": true,
   "bibliofile": "biblio.bib",
   "cite_by": "apalike",
   "current_citInitial": 1,
   "eqLabelWithNumbers": true,
   "eqNumInitial": 1,
   "hotkeys": {
    "equation": "Ctrl-E",
    "itemize": "Ctrl-I"
   },
   "labels_anchors": false,
   "latex_user_defs": false,
   "report_style_numbering": false,
   "user_envs_cfg": false
  },
  "toc": {
   "base_numbering": 1,
   "nav_menu": {},
   "number_sections": true,
   "sideBar": true,
   "skip_h1_title": false,
   "title_cell": "Table of Contents",
   "title_sidebar": "Contents",
   "toc_cell": false,
   "toc_position": {},
   "toc_section_display": true,
   "toc_window_display": true
  },
  "varInspector": {
   "cols": {
    "lenName": 16,
    "lenType": 16,
    "lenVar": 40
   },
   "kernels_config": {
    "python": {
     "delete_cmd_postfix": "",
     "delete_cmd_prefix": "del ",
     "library": "var_list.py",
     "varRefreshCmd": "print(var_dic_list())"
    },
    "r": {
     "delete_cmd_postfix": ") ",
     "delete_cmd_prefix": "rm(",
     "library": "var_list.r",
     "varRefreshCmd": "cat(var_dic_list()) "
    }
   },
   "types_to_exclude": [
    "module",
    "function",
    "builtin_function_or_method",
    "instance",
    "_Feature"
   ],
   "window_display": false
  }
 },
 "nbformat": 4,
 "nbformat_minor": 4
}
