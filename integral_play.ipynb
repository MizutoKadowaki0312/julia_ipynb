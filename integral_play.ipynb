{
 "cells": [
  {
   "cell_type": "code",
   "execution_count": null,
   "metadata": {},
   "outputs": [],
   "source": [
    "using DifferentialEquations\n",
    "using Plots\n",
    "using LaTeXStrings"
   ]
  },
  {
   "cell_type": "code",
   "execution_count": null,
   "metadata": {},
   "outputs": [],
   "source": [
    "f(u,p,t) = sqrt(t)*sin(t)"
   ]
  },
  {
   "cell_type": "code",
   "execution_count": null,
   "metadata": {
    "scrolled": true
   },
   "outputs": [],
   "source": [
    "u0 = 0\n",
    "tspan = (0.0,100π)\n",
    "prob = ODEProblem(f,u0,tspan)\n",
    "sol = solve(prob,Tsit5(),reltol=1e-8,abstol=1e-8);"
   ]
  },
  {
   "cell_type": "code",
   "execution_count": null,
   "metadata": {
    "scrolled": false
   },
   "outputs": [],
   "source": [
    "plot(sol,\n",
    "    title=L\"\\frac{d}{dt}u(t)=\\sqrt{t}\\sin(t)\",\n",
    "    xaxis = L\"t\" , \n",
    "    yaxis=L\"u(t)\",\n",
    "    label=L\"u(t)\",\n",
    "    legend=:outertopright , \n",
    "    xticks = ([0:20π:100π], [\"0\", \"20\\\\pi\", \"40\\\\pi\",\"60\\\\pi\",\"80\\\\pi\",\"100\\\\pi\"])\n",
    ")\n",
    "\n",
    "g(t) = sqrt(t) + sqrt(π/2)/2\n",
    "h(t) = -sqrt(t) + sqrt(π/2)/2\n",
    "\n",
    "t = range(tspan...; length=400)\n",
    "plot!(t,g.(t),label = L\"g(t)\",ls=:dash)\n",
    "plot!(t,h.(t),label = L\"h(t)\",ls=:dash)\n",
    "plot!(t,sqrt.(t),label = L\"\\sqrt{t}\",ls=:dash)\n",
    "plot!(t,-sqrt.(t),label = L\"-\\sqrt{t}\",ls=:dash)"
   ]
  }
 ],
 "metadata": {
  "@webio": {
   "lastCommId": null,
   "lastKernelId": null
  },
  "kernelspec": {
   "display_name": "Julia 1.6.0",
   "language": "julia",
   "name": "julia-1.6"
  },
  "language_info": {
   "file_extension": ".jl",
   "mimetype": "application/julia",
   "name": "julia",
   "version": "1.6.0"
  },
  "latex_envs": {
   "LaTeX_envs_menu_present": true,
   "autoclose": true,
   "autocomplete": true,
   "bibliofile": "biblio.bib",
   "cite_by": "apalike",
   "current_citInitial": 1,
   "eqLabelWithNumbers": true,
   "eqNumInitial": 1,
   "hotkeys": {
    "equation": "Ctrl-E",
    "itemize": "Ctrl-I"
   },
   "labels_anchors": false,
   "latex_user_defs": false,
   "report_style_numbering": false,
   "user_envs_cfg": false
  },
  "toc": {
   "base_numbering": 1,
   "nav_menu": {},
   "number_sections": true,
   "sideBar": true,
   "skip_h1_title": false,
   "title_cell": "Table of Contents",
   "title_sidebar": "Contents",
   "toc_cell": false,
   "toc_position": {},
   "toc_section_display": true,
   "toc_window_display": false
  },
  "varInspector": {
   "cols": {
    "lenName": 16,
    "lenType": 16,
    "lenVar": 40
   },
   "kernels_config": {
    "python": {
     "delete_cmd_postfix": "",
     "delete_cmd_prefix": "del ",
     "library": "var_list.py",
     "varRefreshCmd": "print(var_dic_list())"
    },
    "r": {
     "delete_cmd_postfix": ") ",
     "delete_cmd_prefix": "rm(",
     "library": "var_list.r",
     "varRefreshCmd": "cat(var_dic_list()) "
    }
   },
   "types_to_exclude": [
    "module",
    "function",
    "builtin_function_or_method",
    "instance",
    "_Feature"
   ],
   "window_display": false
  }
 },
 "nbformat": 4,
 "nbformat_minor": 2
}
